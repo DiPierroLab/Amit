{
 "cells": [
  {
   "cell_type": "code",
   "execution_count": 49,
   "metadata": {},
   "outputs": [
    {
     "name": "stdout",
     "output_type": "stream",
     "text": [
      "The autoreload extension is already loaded. To reload it, use:\n",
      "  %reload_ext autoreload\n"
     ]
    }
   ],
   "source": [
    "%load_ext autoreload\n",
    "%autoreload 2\n",
    "\n",
    "import hoomd, hoomd.md\n",
    "import mdtraj as md\n",
    "import mbuild as mb\n",
    "import numpy  as np\n",
    "\n",
    "import warnings\n",
    "warnings.filterwarnings('ignore')"
   ]
  },
  {
   "cell_type": "code",
   "execution_count": 70,
   "metadata": {},
   "outputs": [],
   "source": [
    "! rm *gsd"
   ]
  },
  {
   "cell_type": "code",
   "execution_count": 65,
   "metadata": {},
   "outputs": [],
   "source": [
    "from src.main_without_top import ChromoChip\n",
    "#help(ChromoChip)"
   ]
  },
  {
   "cell_type": "code",
   "execution_count": 66,
   "metadata": {},
   "outputs": [],
   "source": [
    "nucleus = ChromoChip('./data/ReadyForHelicity_BintuIMR90_chr21-18-20Mb-COMSubtracted.gro', 5, chip_seq = np.random.rand(65)*10,10)"
   ]
  },
  {
   "cell_type": "code",
   "execution_count": 53,
   "metadata": {},
   "outputs": [
    {
     "data": {
      "text/plain": [
       "Nucleus with 65 number of beads extracted from snapshot 5.\n",
       " Chip-seq average binding affinity is 4.875968380242934.\n",
       " Now you may use sprinkle_tf() method to add TFs to your taste."
      ]
     },
     "execution_count": 53,
     "metadata": {},
     "output_type": "execute_result"
    }
   ],
   "source": [
    "nucleus"
   ]
  },
  {
   "cell_type": "code",
   "execution_count": 75,
   "metadata": {},
   "outputs": [
    {
     "data": {
      "application/3dmoljs_load.v0": "<div id=\"3dmolviewer_16055497739279118\"  style=\"position: relative; width: 640px; height: 480px\">\n        <p id=\"3dmolwarning_16055497739279118\" style=\"background-color:#ffcccc;color:black\">You appear to be running in JupyterLab (or JavaScript failed to load for some other reason).  You need to install the 3dmol extension: <br>\n        <tt>jupyter labextension install jupyterlab_3dmol</tt></p>\n        </div>\n<script>\n\nvar loadScriptAsync = function(uri){\n  return new Promise((resolve, reject) => {\n    var tag = document.createElement('script');\n    tag.src = uri;\n    tag.async = true;\n    tag.onload = () => {\n      resolve();\n    };\n  var firstScriptTag = document.getElementsByTagName('script')[0];\n  firstScriptTag.parentNode.insertBefore(tag, firstScriptTag);\n});\n};\n\nif(typeof $3Dmolpromise === 'undefined') {\n$3Dmolpromise = null;\n  $3Dmolpromise = loadScriptAsync('https://3dmol.csb.pitt.edu/build/3Dmol.js');\n}\n\nvar viewer_16055497739279118 = null;\nvar warn = document.getElementById(\"3dmolwarning_16055497739279118\");\nif(warn) {\n    warn.parentNode.removeChild(warn);\n}\n$3Dmolpromise.then(function() {\nviewer_16055497739279118 = $3Dmol.createViewer($(\"#3dmolviewer_16055497739279118\"),{backgroundColor:\"white\"});\n\tviewer_16055497739279118.addModel(\"@<TRIPOS>MOLECULE\\nRES\\n65 0 1 0 1\\nSMALL\\nNO_CHARGES\\n@<TRIPOS>CRYSIN\\n  600.0000   600.0000   600.0000    90.0000    90.0000    90.0000  1  1\\n@<TRIPOS>ATOM\\n       1 X23         15.2200    38.3300    34.9800 X23           1 RES     \\n       2 X86         -0.9700    -6.2200    -0.5900 X86           1 RES     \\n       3 X28        -18.4200     2.9900    14.1300 X28           1 RES     \\n       4 X72        -12.8400     2.5700     9.7700 X72           1 RES     \\n       5 X57          0.8600     9.8100     6.6500 X57           1 RES     \\n       6 X76         14.5500    17.0500     3.5300 X76           1 RES     \\n       7 X25          5.5800    35.0500     8.2500 X25           1 RES     \\n       8 X4         -12.5400    -1.1900    14.1900 X4            1 RES     \\n       9 X14        -12.0000     9.1100    12.8000 X14           1 RES     \\n      10 X15        -15.6900     5.2300     9.4100 X15           1 RES     \\n      11 X43        -14.1800     5.7200    10.0700 X43           1 RES     \\n      12 X12         -4.6900    18.1700     7.1600 X12           1 RES     \\n      13 X8           4.7900    30.6300     4.2500 X8            1 RES     \\n      14 X27          3.8200    25.9600     2.6200 X27           1 RES     \\n      15 X53         -4.0600    22.0200     1.5300 X53           1 RES     \\n      16 X39          8.4900    21.7800    -1.0200 X39           1 RES     \\n      17 X15          7.0300    22.9900     3.8300 X15           1 RES     \\n      18 X19        -25.3300    15.7800    15.4100 X19           1 RES     \\n      19 X65        -21.8100    17.4200    11.7700 X65           1 RES     \\n      20 X62        -13.2100    10.0800     2.8000 X62           1 RES     \\n      21 X49         -9.4500    15.2300     2.9200 X49           1 RES     \\n      22 X96         -9.8100    -4.5800    -0.4100 X96           1 RES     \\n      23 X45         -9.4500   -10.2800    -3.0200 X45           1 RES     \\n      24 X59          5.4600    -8.6400    14.8000 X59           1 RES     \\n      25 X56         -1.5700     5.0500    -0.2900 X56           1 RES     \\n      26 X79        -21.5100    22.2600     0.7400 X79           1 RES     \\n      27 X14         31.7600   -22.0400    -6.9000 X14           1 RES     \\n      28 X82          1.2200   -16.5200    -8.5900 X82           1 RES     \\n      29 X59        -10.8400   -12.2200    -1.2000 X59           1 RES     \\n      30 X63         -0.2400     0.5700    -2.0500 X63           1 RES     \\n      31 X28         17.2200    -5.1900   -29.8700 X28           1 RES     \\n      32 X84         13.0300   -25.3700   -24.5300 X84           1 RES     \\n      33 X66         -3.2100   -27.3700    -4.3500 X66           1 RES     \\n      34 X15         -1.8100   -16.6400    -0.7800 X15           1 RES     \\n      35 X53         -8.5400    -3.7400    -3.1400 X53           1 RES     \\n      36 X8           8.0600   -22.2200    -7.9300 X8            1 RES     \\n      37 X25          5.3400   -16.9500    -1.3800 X25           1 RES     \\n      38 X18          5.0300   -18.5800     1.3500 X18           1 RES     \\n      39 X83         10.5400     6.5100     1.6500 X83           1 RES     \\n      40 X13         16.0600    31.6000     1.9500 X13           1 RES     \\n      41 X96          0.0600     3.7200   -18.5900 X96           1 RES     \\n      42 X0           2.7900   -11.8000   -15.0200 X0            1 RES     \\n      43 X69          0.9100    -7.9800   -11.8100 X69           1 RES     \\n      44 X97         -6.6000    -1.8600    -7.5600 X97           1 RES     \\n      45 X21         15.1000    -3.9800    -9.3800 X21           1 RES     \\n      46 X66         -0.9700    -8.2200     4.5600 X66           1 RES     \\n      47 X78         24.2500   -35.4300   -23.0200 X78           1 RES     \\n      48 X56          6.1300   -12.1600    -1.9300 X56           1 RES     \\n      49 X31         -2.9700   -13.9200     5.2200 X31           1 RES     \\n      50 X12         -0.7200   -13.6700     5.0400 X12           1 RES     \\n      51 X72          1.9400   -17.2500     5.9500 X72           1 RES     \\n      52 X54         14.6700    10.6300    -1.7500 X54           1 RES     \\n      53 X38          1.8800     4.3300     8.0100 X38           1 RES     \\n      54 X99          0.3700    -3.8000     2.3200 X99           1 RES     \\n      55 X21          3.8200    15.8400    17.9500 X21           1 RES     \\n      56 X19          6.9700     1.1700   -30.0500 X19           1 RES     \\n      57 X23         -2.5400   -29.8000   -21.3200 X23           1 RES     \\n      58 X44          6.2500    -5.4300   -22.1100 X44           1 RES     \\n      59 X23          6.2500     0.8700    11.4100 X23           1 RES     \\n      60 X87          3.5800    -0.7000     1.1600 X87           1 RES     \\n      61 X24         -6.1800   -13.8600     0.3200 X24           1 RES     \\n      62 X90         -5.8100   -25.2500    -1.5600 X90           1 RES     \\n      63 X28         -4.9000   -18.3400    -0.0500 X28           1 RES     \\n      64 X61        -14.4800   -17.9200    13.0400 X61           1 RES     \\n      65 X18          8.6100    30.9300   -11.0800 X18           1 RES     \\n@<TRIPOS>BOND\\n@<TRIPOS>SUBSTRUCTURE\\n       1 RES             1 RESIDUE    0 **** ROOT      0\\n\",\"mol2\");\n\tviewer_16055497739279118.setStyle({\"stick\": {\"radius\": 0.2, \"color\": \"grey\"}, \"sphere\": {\"scale\": 0.3, \"colorscheme\": {}}});\n\tviewer_16055497739279118.zoomTo();\nviewer_16055497739279118.render();\n});\n</script>",
      "text/html": [
       "<div id=\"3dmolviewer_16055497739279118\"  style=\"position: relative; width: 640px; height: 480px\">\n",
       "        <p id=\"3dmolwarning_16055497739279118\" style=\"background-color:#ffcccc;color:black\">You appear to be running in JupyterLab (or JavaScript failed to load for some other reason).  You need to install the 3dmol extension: <br>\n",
       "        <tt>jupyter labextension install jupyterlab_3dmol</tt></p>\n",
       "        </div>\n",
       "<script>\n",
       "\n",
       "var loadScriptAsync = function(uri){\n",
       "  return new Promise((resolve, reject) => {\n",
       "    var tag = document.createElement('script');\n",
       "    tag.src = uri;\n",
       "    tag.async = true;\n",
       "    tag.onload = () => {\n",
       "      resolve();\n",
       "    };\n",
       "  var firstScriptTag = document.getElementsByTagName('script')[0];\n",
       "  firstScriptTag.parentNode.insertBefore(tag, firstScriptTag);\n",
       "});\n",
       "};\n",
       "\n",
       "if(typeof $3Dmolpromise === 'undefined') {\n",
       "$3Dmolpromise = null;\n",
       "  $3Dmolpromise = loadScriptAsync('https://3dmol.csb.pitt.edu/build/3Dmol.js');\n",
       "}\n",
       "\n",
       "var viewer_16055497739279118 = null;\n",
       "var warn = document.getElementById(\"3dmolwarning_16055497739279118\");\n",
       "if(warn) {\n",
       "    warn.parentNode.removeChild(warn);\n",
       "}\n",
       "$3Dmolpromise.then(function() {\n",
       "viewer_16055497739279118 = $3Dmol.createViewer($(\"#3dmolviewer_16055497739279118\"),{backgroundColor:\"white\"});\n",
       "\tviewer_16055497739279118.addModel(\"@<TRIPOS>MOLECULE\\nRES\\n65 0 1 0 1\\nSMALL\\nNO_CHARGES\\n@<TRIPOS>CRYSIN\\n  600.0000   600.0000   600.0000    90.0000    90.0000    90.0000  1  1\\n@<TRIPOS>ATOM\\n       1 X23         15.2200    38.3300    34.9800 X23           1 RES     \\n       2 X86         -0.9700    -6.2200    -0.5900 X86           1 RES     \\n       3 X28        -18.4200     2.9900    14.1300 X28           1 RES     \\n       4 X72        -12.8400     2.5700     9.7700 X72           1 RES     \\n       5 X57          0.8600     9.8100     6.6500 X57           1 RES     \\n       6 X76         14.5500    17.0500     3.5300 X76           1 RES     \\n       7 X25          5.5800    35.0500     8.2500 X25           1 RES     \\n       8 X4         -12.5400    -1.1900    14.1900 X4            1 RES     \\n       9 X14        -12.0000     9.1100    12.8000 X14           1 RES     \\n      10 X15        -15.6900     5.2300     9.4100 X15           1 RES     \\n      11 X43        -14.1800     5.7200    10.0700 X43           1 RES     \\n      12 X12         -4.6900    18.1700     7.1600 X12           1 RES     \\n      13 X8           4.7900    30.6300     4.2500 X8            1 RES     \\n      14 X27          3.8200    25.9600     2.6200 X27           1 RES     \\n      15 X53         -4.0600    22.0200     1.5300 X53           1 RES     \\n      16 X39          8.4900    21.7800    -1.0200 X39           1 RES     \\n      17 X15          7.0300    22.9900     3.8300 X15           1 RES     \\n      18 X19        -25.3300    15.7800    15.4100 X19           1 RES     \\n      19 X65        -21.8100    17.4200    11.7700 X65           1 RES     \\n      20 X62        -13.2100    10.0800     2.8000 X62           1 RES     \\n      21 X49         -9.4500    15.2300     2.9200 X49           1 RES     \\n      22 X96         -9.8100    -4.5800    -0.4100 X96           1 RES     \\n      23 X45         -9.4500   -10.2800    -3.0200 X45           1 RES     \\n      24 X59          5.4600    -8.6400    14.8000 X59           1 RES     \\n      25 X56         -1.5700     5.0500    -0.2900 X56           1 RES     \\n      26 X79        -21.5100    22.2600     0.7400 X79           1 RES     \\n      27 X14         31.7600   -22.0400    -6.9000 X14           1 RES     \\n      28 X82          1.2200   -16.5200    -8.5900 X82           1 RES     \\n      29 X59        -10.8400   -12.2200    -1.2000 X59           1 RES     \\n      30 X63         -0.2400     0.5700    -2.0500 X63           1 RES     \\n      31 X28         17.2200    -5.1900   -29.8700 X28           1 RES     \\n      32 X84         13.0300   -25.3700   -24.5300 X84           1 RES     \\n      33 X66         -3.2100   -27.3700    -4.3500 X66           1 RES     \\n      34 X15         -1.8100   -16.6400    -0.7800 X15           1 RES     \\n      35 X53         -8.5400    -3.7400    -3.1400 X53           1 RES     \\n      36 X8           8.0600   -22.2200    -7.9300 X8            1 RES     \\n      37 X25          5.3400   -16.9500    -1.3800 X25           1 RES     \\n      38 X18          5.0300   -18.5800     1.3500 X18           1 RES     \\n      39 X83         10.5400     6.5100     1.6500 X83           1 RES     \\n      40 X13         16.0600    31.6000     1.9500 X13           1 RES     \\n      41 X96          0.0600     3.7200   -18.5900 X96           1 RES     \\n      42 X0           2.7900   -11.8000   -15.0200 X0            1 RES     \\n      43 X69          0.9100    -7.9800   -11.8100 X69           1 RES     \\n      44 X97         -6.6000    -1.8600    -7.5600 X97           1 RES     \\n      45 X21         15.1000    -3.9800    -9.3800 X21           1 RES     \\n      46 X66         -0.9700    -8.2200     4.5600 X66           1 RES     \\n      47 X78         24.2500   -35.4300   -23.0200 X78           1 RES     \\n      48 X56          6.1300   -12.1600    -1.9300 X56           1 RES     \\n      49 X31         -2.9700   -13.9200     5.2200 X31           1 RES     \\n      50 X12         -0.7200   -13.6700     5.0400 X12           1 RES     \\n      51 X72          1.9400   -17.2500     5.9500 X72           1 RES     \\n      52 X54         14.6700    10.6300    -1.7500 X54           1 RES     \\n      53 X38          1.8800     4.3300     8.0100 X38           1 RES     \\n      54 X99          0.3700    -3.8000     2.3200 X99           1 RES     \\n      55 X21          3.8200    15.8400    17.9500 X21           1 RES     \\n      56 X19          6.9700     1.1700   -30.0500 X19           1 RES     \\n      57 X23         -2.5400   -29.8000   -21.3200 X23           1 RES     \\n      58 X44          6.2500    -5.4300   -22.1100 X44           1 RES     \\n      59 X23          6.2500     0.8700    11.4100 X23           1 RES     \\n      60 X87          3.5800    -0.7000     1.1600 X87           1 RES     \\n      61 X24         -6.1800   -13.8600     0.3200 X24           1 RES     \\n      62 X90         -5.8100   -25.2500    -1.5600 X90           1 RES     \\n      63 X28         -4.9000   -18.3400    -0.0500 X28           1 RES     \\n      64 X61        -14.4800   -17.9200    13.0400 X61           1 RES     \\n      65 X18          8.6100    30.9300   -11.0800 X18           1 RES     \\n@<TRIPOS>BOND\\n@<TRIPOS>SUBSTRUCTURE\\n       1 RES             1 RESIDUE    0 **** ROOT      0\\n\",\"mol2\");\n",
       "\tviewer_16055497739279118.setStyle({\"stick\": {\"radius\": 0.2, \"color\": \"grey\"}, \"sphere\": {\"scale\": 0.3, \"colorscheme\": {}}});\n",
       "\tviewer_16055497739279118.zoomTo();\n",
       "viewer_16055497739279118.render();\n",
       "});\n",
       "</script>"
      ]
     },
     "metadata": {},
     "output_type": "display_data"
    },
    {
     "data": {
      "text/plain": [
       "<py3Dmol.view at 0x7faceef40b20>"
      ]
     },
     "execution_count": 75,
     "metadata": {},
     "output_type": "execute_result"
    }
   ],
   "source": [
    "nucleus.chromosome.visualize()"
   ]
  },
  {
   "cell_type": "code",
   "execution_count": 71,
   "metadata": {},
   "outputs": [],
   "source": [
    "nucleus.sprinkle_tf(nTF=100, boxL=5, seed=1235 )"
   ]
  },
  {
   "cell_type": "code",
   "execution_count": 68,
   "metadata": {},
   "outputs": [
    {
     "data": {
      "text/plain": [
       "<Compound 165 particles, periodicity: [20. 20. 20.], 0 bonds, id: 140380620840240>"
      ]
     },
     "execution_count": 68,
     "metadata": {},
     "output_type": "execute_result"
    }
   ],
   "source": [
    "nucleus.chromosome_tf"
   ]
  },
  {
   "cell_type": "code",
   "execution_count": 74,
   "metadata": {},
   "outputs": [
    {
     "data": {
      "application/3dmoljs_load.v0": "<div id=\"3dmolviewer_16055496124953372\"  style=\"position: relative; width: 640px; height: 480px\">\n        <p id=\"3dmolwarning_16055496124953372\" style=\"background-color:#ffcccc;color:black\">You appear to be running in JupyterLab (or JavaScript failed to load for some other reason).  You need to install the 3dmol extension: <br>\n        <tt>jupyter labextension install jupyterlab_3dmol</tt></p>\n        </div>\n<script>\n\nvar loadScriptAsync = function(uri){\n  return new Promise((resolve, reject) => {\n    var tag = document.createElement('script');\n    tag.src = uri;\n    tag.async = true;\n    tag.onload = () => {\n      resolve();\n    };\n  var firstScriptTag = document.getElementsByTagName('script')[0];\n  firstScriptTag.parentNode.insertBefore(tag, firstScriptTag);\n});\n};\n\nif(typeof $3Dmolpromise === 'undefined') {\n$3Dmolpromise = null;\n  $3Dmolpromise = loadScriptAsync('https://3dmol.csb.pitt.edu/build/3Dmol.js');\n}\n\nvar viewer_16055496124953372 = null;\nvar warn = document.getElementById(\"3dmolwarning_16055496124953372\");\nif(warn) {\n    warn.parentNode.removeChild(warn);\n}\n$3Dmolpromise.then(function() {\nviewer_16055496124953372 = $3Dmol.createViewer($(\"#3dmolviewer_16055496124953372\"),{backgroundColor:\"white\"});\n\tviewer_16055496124953372.addModel(\"@<TRIPOS>MOLECULE\\nRES\\n165 0 1 0 1\\nSMALL\\nNO_CHARGES\\n@<TRIPOS>CRYSIN\\n  100.0000   100.0000   100.0000    90.0000    90.0000    90.0000  1  1\\n@<TRIPOS>ATOM\\n       1 X23        -32.8606    21.5411   -49.5020 X23           1 RES     \\n       2 X86        -16.9510    14.4332     7.1408 X86           1 RES     \\n       3 X28        -25.3833    -5.5525    -4.4985 X28           1 RES     \\n       4 X72        -21.9942     0.5451    -3.2119 X72           1 RES     \\n       5 X57        -17.2937    13.7452   -10.5266 X57           1 RES     \\n       6 X76        -12.5924    26.9354   -17.8399 X76           1 RES     \\n       7 X25         -9.0222    15.7083   -34.8088 X25           1 RES     \\n       8 X4         -27.5578     0.6576    -1.5392 X4            1 RES     \\n       9 X14        -22.2107     0.3471   -10.4625 X14           1 RES     \\n      10 X15        -20.3845    -2.4859    -5.0958 X15           1 RES     \\n      11 X43        -20.9065    -1.1267    -6.0100 X43           1 RES     \\n      12 X12        -13.9935     7.3761   -17.5619 X12           1 RES     \\n      13 X8          -7.0758    15.8680   -29.1214 X8            1 RES     \\n      14 X27         -7.3804    15.5770   -24.0985 X27           1 RES     \\n      15 X53         -7.3596     8.3248   -18.9788 X53           1 RES     \\n      16 X39         -6.0831    21.0575   -19.5366 X39           1 RES     \\n      17 X15         -9.9180    18.8873   -22.3118 X15           1 RES     \\n      18 X19        -20.9114   -13.7988   -15.6775 X19           1 RES     \\n      19 X65        -17.1992   -10.0288   -16.2573 X65           1 RES     \\n      20 X62        -12.5966     0.3133    -7.3045 X62           1 RES     \\n      21 X49        -10.9335     3.5008   -12.5722 X49           1 RES     \\n      22 X96        -15.7858     5.5222     6.8191 X96           1 RES     \\n      23 X45        -15.7085     6.7690    12.9731 X45           1 RES     \\n      24 X59        -32.4661    19.0859     2.4835 X59           1 RES     \\n      25 X56        -12.6728    12.6891    -3.1605 X56           1 RES     \\n      26 X79         -5.2119    -8.8251   -16.4391 X79           1 RES     \\n      27 X14        -20.0083    49.0990    19.3996 X14           1 RES     \\n      28 X82        -13.9294    18.6186    19.3162 X82           1 RES     \\n      29 X59        -18.0407     5.3600    14.2315 X59           1 RES     \\n      30 X63        -12.9580    14.6661     1.4163 X63           1 RES     \\n      31 X28          8.8185    35.9667    14.9826 X28           1 RES     \\n      32 X84         -3.8089    33.1546    31.8925 X84           1 RES     \\n      33 X66        -21.8031    14.7854    28.1839 X66           1 RES     \\n      34 X15        -20.8801    14.6580    16.8274 X15           1 RES     \\n      35 X53        -13.0532     7.0359     6.9322 X53           1 RES     \\n      36 X8         -17.3329    25.8511    23.2933 X8            1 RES     \\n      37 X25        -21.0010    21.8221    16.3373 X25           1 RES     \\n      38 X18        -24.1228    21.3342    16.8092 X18           1 RES     \\n      39 X83        -14.7841    24.2552    -6.9440 X83           1 RES     \\n      40 X13         -5.4462    27.1862   -30.6987 X13           1 RES     \\n      41 X96          3.3863    16.7292     4.9079 X96           1 RES     \\n      42 X0          -6.2886    20.5098    17.2841 X0            1 RES     \\n      43 X69         -7.5498    17.8729    12.8246 X69           1 RES     \\n      44 X97         -8.4121     9.3205     6.6578 X97           1 RES     \\n      45 X21         -9.2516    31.1796     6.2445 X21           1 RES     \\n      46 X66        -22.4548    13.9838     6.9693 X66           1 RES     \\n      47 X78        -10.0661    45.0350    38.8978 X78           1 RES     \\n      48 X56        -18.6435    22.1975    12.0745 X56           1 RES     \\n      49 X31        -25.1844    12.4901    12.1888 X31           1 RES     \\n      50 X12        -25.0915    14.7090    11.7145 X12           1 RES     \\n      51 X72        -27.5570    17.5744    14.2505 X72           1 RES     \\n      52 X54        -10.3459    28.3520    -9.9623 X54           1 RES     \\n      53 X38        -20.8049    15.1229    -6.2030 X38           1 RES     \\n      54 X99        -18.7435    15.1511     3.6206 X99           1 RES     \\n      55 X21        -25.4295    14.6511   -20.8125 X21           1 RES     \\n      56 X19         12.3074    25.2425    10.6975 X19           1 RES     \\n      57 X23         -7.3255    17.8194    36.8746 X23           1 RES     \\n      58 X44          2.4708    24.1865    13.7385 X44           1 RES     \\n      59 X23        -25.6271    19.3515    -4.9807 X23           1 RES     \\n      60 X87        -16.6891    18.1591     0.7938 X87           1 RES     \\n      61 X24        -20.4401     9.9312    14.4825 X24           1 RES     \\n      62 X90        -23.3056    11.6587    25.5373 X90           1 RES     \\n      63 X28        -21.9911    11.6841    18.5281 X28           1 RES     \\n      64 X61        -33.0493     0.5409    14.4236 X61           1 RES     \\n      65 X18          6.7553    21.5356   -23.9960 X18           1 RES     \\n      66 TF         -32.7127    -8.4445    14.7978 TF            1 RES     \\n      67 TF          -2.5458   -19.2426   -23.8530 TF            1 RES     \\n      68 TF         -42.6697   -29.3023    18.7549 TF            1 RES     \\n      69 TF          42.0001    25.2353    21.3655 TF            1 RES     \\n      70 TF         -29.3050   -26.4176    22.6652 TF            1 RES     \\n      71 TF          48.7770    40.2884     1.4356 TF            1 RES     \\n      72 TF          21.3974    22.0794    -2.3816 TF            1 RES     \\n      73 TF           0.8469   -10.4587    -8.4220 TF            1 RES     \\n      74 TF          37.0134    13.9305   -17.2211 TF            1 RES     \\n      75 TF         -33.4827    15.2640    24.6414 TF            1 RES     \\n      76 TF           6.9732    23.9632    30.5367 TF            1 RES     \\n      77 TF          44.1756     2.2558   -22.9800 TF            1 RES     \\n      78 TF          21.0175    31.4598     4.3175 TF            1 RES     \\n      79 TF         -14.6513    37.3581    10.1827 TF            1 RES     \\n      80 TF           9.7964    -7.3221   -26.2300 TF            1 RES     \\n      81 TF         -45.4208   -29.8409     8.6343 TF            1 RES     \\n      82 TF           8.2544    12.4452   -36.9250 TF            1 RES     \\n      83 TF         -22.6006    40.5805   -35.1364 TF            1 RES     \\n      84 TF          11.2097    42.8717    -0.8909 TF            1 RES     \\n      85 TF         -16.2151   -38.7170   -11.2036 TF            1 RES     \\n      86 TF         -40.4009     6.0165     8.9302 TF            1 RES     \\n      87 TF          17.4383   -49.3484   -27.9740 TF            1 RES     \\n      88 TF          28.3313   -24.1463   -36.7380 TF            1 RES     \\n      89 TF          11.1225   -25.1701    49.0000 TF            1 RES     \\n      90 TF          37.8491   -12.9407    25.8104 TF            1 RES     \\n      91 TF          -0.0814    39.7491    -8.1766 TF            1 RES     \\n      92 TF          -6.3544    41.7633    15.1210 TF            1 RES     \\n      93 TF         -22.1421    16.5598    37.0883 TF            1 RES     \\n      94 TF          -6.8568    36.3751   -20.1347 TF            1 RES     \\n      95 TF          30.8454    46.3627   -38.0738 TF            1 RES     \\n      96 TF         -37.2293   -46.5570    -8.2045 TF            1 RES     \\n      97 TF          43.3679    36.0217    35.2718 TF            1 RES     \\n      98 TF         -14.3243     5.1381    24.4223 TF            1 RES     \\n      99 TF          14.7312   -27.7380    37.0451 TF            1 RES     \\n     100 TF          21.2449    33.0999    38.7062 TF            1 RES     \\n     101 TF         -34.2695    46.3209    -3.3364 TF            1 RES     \\n     102 TF         -43.1346    -4.8979     6.9644 TF            1 RES     \\n     103 TF         -34.5796    17.7336    43.1680 TF            1 RES     \\n     104 TF          18.1495    26.5167   -23.1708 TF            1 RES     \\n     105 TF         -47.7770    39.1861   -12.1395 TF            1 RES     \\n     106 TF          -2.9006   -34.2458    -6.9097 TF            1 RES     \\n     107 TF          -8.6274    48.3898   -16.0418 TF            1 RES     \\n     108 TF         -47.0482    45.3093    -4.3739 TF            1 RES     \\n     109 TF         -29.3094    -6.5966   -39.9632 TF            1 RES     \\n     110 TF         -35.8369     0.6120    -5.4291 TF            1 RES     \\n     111 TF          -6.5730   -20.0738    38.1756 TF            1 RES     \\n     112 TF          47.9095   -11.1162    31.5542 TF            1 RES     \\n     113 TF         -31.4862    -1.8931    29.5656 TF            1 RES     \\n     114 TF         -42.2140   -11.8029    41.8703 TF            1 RES     \\n     115 TF          12.0203   -44.5538   -18.0117 TF            1 RES     \\n     116 TF         -13.4590   -42.5467     4.7998 TF            1 RES     \\n     117 TF         -46.1124   -19.5000    13.6554 TF            1 RES     \\n     118 TF           4.0474    38.7588     2.6939 TF            1 RES     \\n     119 TF           4.9333   -48.0378     5.6422 TF            1 RES     \\n     120 TF         -10.7764   -14.7089   -20.4824 TF            1 RES     \\n     121 TF         -25.3680   -38.8069   -22.9329 TF            1 RES     \\n     122 TF          32.4087   -14.7727     7.1707 TF            1 RES     \\n     123 TF          46.6861   -21.7904    -4.3031 TF            1 RES     \\n     124 TF         -14.1478    -1.4986     1.3854 TF            1 RES     \\n     125 TF          -7.0859   -17.3104    -6.8790 TF            1 RES     \\n     126 TF          -8.4544     0.2955    10.7321 TF            1 RES     \\n     127 TF          -5.6193   -16.9725    18.9730 TF            1 RES     \\n     128 TF         -45.2706    14.0328   -10.6488 TF            1 RES     \\n     129 TF         -43.6362    36.0220   -38.8883 TF            1 RES     \\n     130 TF          30.9946     8.5563   -24.5370 TF            1 RES     \\n     131 TF          12.2950    26.8070    -3.6379 TF            1 RES     \\n     132 TF         -19.9020   -24.3587    -1.2416 TF            1 RES     \\n     133 TF          32.5425     7.1790    30.0619 TF            1 RES     \\n     134 TF           4.5174   -42.1034   -11.7808 TF            1 RES     \\n     135 TF         -12.3585   -16.4884     6.4934 TF            1 RES     \\n     136 TF           8.1147    -0.3177     1.4960 TF            1 RES     \\n     137 TF         -48.6005    47.1167    11.6029 TF            1 RES     \\n     138 TF           4.1062    45.9878    21.9826 TF            1 RES     \\n     139 TF         -16.6962    20.2773   -33.6965 TF            1 RES     \\n     140 TF          32.0400   -32.6922    19.0208 TF            1 RES     \\n     141 TF           3.2290   -20.0028    36.7734 TF            1 RES     \\n     142 TF         -28.7873   -34.9711    10.5672 TF            1 RES     \\n     143 TF         -30.3340    13.1488   -42.4720 TF            1 RES     \\n     144 TF          -3.2067   -40.0332    23.9578 TF            1 RES     \\n     145 TF          47.4449     2.9803    18.9929 TF            1 RES     \\n     146 TF         -16.7792     6.3176   -42.4428 TF            1 RES     \\n     147 TF          32.4108    -7.0025    14.1234 TF            1 RES     \\n     148 TF          14.1301    41.0512   -15.8890 TF            1 RES     \\n     149 TF          20.3260     9.9243    28.9729 TF            1 RES     \\n     150 TF         -27.3258    -9.7938   -30.4503 TF            1 RES     \\n     151 TF          -1.8704    -8.8952    35.2716 TF            1 RES     \\n     152 TF         -42.2333    -2.3012    46.2737 TF            1 RES     \\n     153 TF         -43.2760    41.0832   -47.4036 TF            1 RES     \\n     154 TF         -48.2998   -39.2300   -38.6241 TF            1 RES     \\n     155 TF         -13.4772   -28.7438     5.0580 TF            1 RES     \\n     156 TF          31.8774    37.8139   -43.5769 TF            1 RES     \\n     157 TF          -0.9851    32.5578    22.3644 TF            1 RES     \\n     158 TF          46.7810     5.9833   -32.1708 TF            1 RES     \\n     159 TF          25.9883    23.4839     7.6340 TF            1 RES     \\n     160 TF          -4.3670   -38.0045    48.8706 TF            1 RES     \\n     161 TF         -29.9594    29.1653   -45.7002 TF            1 RES     \\n     162 TF         -14.8608    32.2052   -48.4632 TF            1 RES     \\n     163 TF         -39.0002   -39.0713    43.9000 TF            1 RES     \\n     164 TF         -18.8054     6.9660    36.8033 TF            1 RES     \\n     165 TF         -41.0917   -21.6364    35.1232 TF            1 RES     \\n@<TRIPOS>BOND\\n@<TRIPOS>SUBSTRUCTURE\\n       1 RES             1 RESIDUE    0 **** ROOT      0\\n\",\"mol2\");\n\tviewer_16055496124953372.setStyle({\"stick\": {\"radius\": 0.2, \"color\": \"grey\"}, \"sphere\": {\"scale\": 0.3, \"colorscheme\": {}}});\n\tviewer_16055496124953372.zoomTo();\nviewer_16055496124953372.render();\n});\n</script>",
      "text/html": [
       "<div id=\"3dmolviewer_16055496124953372\"  style=\"position: relative; width: 640px; height: 480px\">\n",
       "        <p id=\"3dmolwarning_16055496124953372\" style=\"background-color:#ffcccc;color:black\">You appear to be running in JupyterLab (or JavaScript failed to load for some other reason).  You need to install the 3dmol extension: <br>\n",
       "        <tt>jupyter labextension install jupyterlab_3dmol</tt></p>\n",
       "        </div>\n",
       "<script>\n",
       "\n",
       "var loadScriptAsync = function(uri){\n",
       "  return new Promise((resolve, reject) => {\n",
       "    var tag = document.createElement('script');\n",
       "    tag.src = uri;\n",
       "    tag.async = true;\n",
       "    tag.onload = () => {\n",
       "      resolve();\n",
       "    };\n",
       "  var firstScriptTag = document.getElementsByTagName('script')[0];\n",
       "  firstScriptTag.parentNode.insertBefore(tag, firstScriptTag);\n",
       "});\n",
       "};\n",
       "\n",
       "if(typeof $3Dmolpromise === 'undefined') {\n",
       "$3Dmolpromise = null;\n",
       "  $3Dmolpromise = loadScriptAsync('https://3dmol.csb.pitt.edu/build/3Dmol.js');\n",
       "}\n",
       "\n",
       "var viewer_16055496124953372 = null;\n",
       "var warn = document.getElementById(\"3dmolwarning_16055496124953372\");\n",
       "if(warn) {\n",
       "    warn.parentNode.removeChild(warn);\n",
       "}\n",
       "$3Dmolpromise.then(function() {\n",
       "viewer_16055496124953372 = $3Dmol.createViewer($(\"#3dmolviewer_16055496124953372\"),{backgroundColor:\"white\"});\n",
       "\tviewer_16055496124953372.addModel(\"@<TRIPOS>MOLECULE\\nRES\\n165 0 1 0 1\\nSMALL\\nNO_CHARGES\\n@<TRIPOS>CRYSIN\\n  100.0000   100.0000   100.0000    90.0000    90.0000    90.0000  1  1\\n@<TRIPOS>ATOM\\n       1 X23        -32.8606    21.5411   -49.5020 X23           1 RES     \\n       2 X86        -16.9510    14.4332     7.1408 X86           1 RES     \\n       3 X28        -25.3833    -5.5525    -4.4985 X28           1 RES     \\n       4 X72        -21.9942     0.5451    -3.2119 X72           1 RES     \\n       5 X57        -17.2937    13.7452   -10.5266 X57           1 RES     \\n       6 X76        -12.5924    26.9354   -17.8399 X76           1 RES     \\n       7 X25         -9.0222    15.7083   -34.8088 X25           1 RES     \\n       8 X4         -27.5578     0.6576    -1.5392 X4            1 RES     \\n       9 X14        -22.2107     0.3471   -10.4625 X14           1 RES     \\n      10 X15        -20.3845    -2.4859    -5.0958 X15           1 RES     \\n      11 X43        -20.9065    -1.1267    -6.0100 X43           1 RES     \\n      12 X12        -13.9935     7.3761   -17.5619 X12           1 RES     \\n      13 X8          -7.0758    15.8680   -29.1214 X8            1 RES     \\n      14 X27         -7.3804    15.5770   -24.0985 X27           1 RES     \\n      15 X53         -7.3596     8.3248   -18.9788 X53           1 RES     \\n      16 X39         -6.0831    21.0575   -19.5366 X39           1 RES     \\n      17 X15         -9.9180    18.8873   -22.3118 X15           1 RES     \\n      18 X19        -20.9114   -13.7988   -15.6775 X19           1 RES     \\n      19 X65        -17.1992   -10.0288   -16.2573 X65           1 RES     \\n      20 X62        -12.5966     0.3133    -7.3045 X62           1 RES     \\n      21 X49        -10.9335     3.5008   -12.5722 X49           1 RES     \\n      22 X96        -15.7858     5.5222     6.8191 X96           1 RES     \\n      23 X45        -15.7085     6.7690    12.9731 X45           1 RES     \\n      24 X59        -32.4661    19.0859     2.4835 X59           1 RES     \\n      25 X56        -12.6728    12.6891    -3.1605 X56           1 RES     \\n      26 X79         -5.2119    -8.8251   -16.4391 X79           1 RES     \\n      27 X14        -20.0083    49.0990    19.3996 X14           1 RES     \\n      28 X82        -13.9294    18.6186    19.3162 X82           1 RES     \\n      29 X59        -18.0407     5.3600    14.2315 X59           1 RES     \\n      30 X63        -12.9580    14.6661     1.4163 X63           1 RES     \\n      31 X28          8.8185    35.9667    14.9826 X28           1 RES     \\n      32 X84         -3.8089    33.1546    31.8925 X84           1 RES     \\n      33 X66        -21.8031    14.7854    28.1839 X66           1 RES     \\n      34 X15        -20.8801    14.6580    16.8274 X15           1 RES     \\n      35 X53        -13.0532     7.0359     6.9322 X53           1 RES     \\n      36 X8         -17.3329    25.8511    23.2933 X8            1 RES     \\n      37 X25        -21.0010    21.8221    16.3373 X25           1 RES     \\n      38 X18        -24.1228    21.3342    16.8092 X18           1 RES     \\n      39 X83        -14.7841    24.2552    -6.9440 X83           1 RES     \\n      40 X13         -5.4462    27.1862   -30.6987 X13           1 RES     \\n      41 X96          3.3863    16.7292     4.9079 X96           1 RES     \\n      42 X0          -6.2886    20.5098    17.2841 X0            1 RES     \\n      43 X69         -7.5498    17.8729    12.8246 X69           1 RES     \\n      44 X97         -8.4121     9.3205     6.6578 X97           1 RES     \\n      45 X21         -9.2516    31.1796     6.2445 X21           1 RES     \\n      46 X66        -22.4548    13.9838     6.9693 X66           1 RES     \\n      47 X78        -10.0661    45.0350    38.8978 X78           1 RES     \\n      48 X56        -18.6435    22.1975    12.0745 X56           1 RES     \\n      49 X31        -25.1844    12.4901    12.1888 X31           1 RES     \\n      50 X12        -25.0915    14.7090    11.7145 X12           1 RES     \\n      51 X72        -27.5570    17.5744    14.2505 X72           1 RES     \\n      52 X54        -10.3459    28.3520    -9.9623 X54           1 RES     \\n      53 X38        -20.8049    15.1229    -6.2030 X38           1 RES     \\n      54 X99        -18.7435    15.1511     3.6206 X99           1 RES     \\n      55 X21        -25.4295    14.6511   -20.8125 X21           1 RES     \\n      56 X19         12.3074    25.2425    10.6975 X19           1 RES     \\n      57 X23         -7.3255    17.8194    36.8746 X23           1 RES     \\n      58 X44          2.4708    24.1865    13.7385 X44           1 RES     \\n      59 X23        -25.6271    19.3515    -4.9807 X23           1 RES     \\n      60 X87        -16.6891    18.1591     0.7938 X87           1 RES     \\n      61 X24        -20.4401     9.9312    14.4825 X24           1 RES     \\n      62 X90        -23.3056    11.6587    25.5373 X90           1 RES     \\n      63 X28        -21.9911    11.6841    18.5281 X28           1 RES     \\n      64 X61        -33.0493     0.5409    14.4236 X61           1 RES     \\n      65 X18          6.7553    21.5356   -23.9960 X18           1 RES     \\n      66 TF         -32.7127    -8.4445    14.7978 TF            1 RES     \\n      67 TF          -2.5458   -19.2426   -23.8530 TF            1 RES     \\n      68 TF         -42.6697   -29.3023    18.7549 TF            1 RES     \\n      69 TF          42.0001    25.2353    21.3655 TF            1 RES     \\n      70 TF         -29.3050   -26.4176    22.6652 TF            1 RES     \\n      71 TF          48.7770    40.2884     1.4356 TF            1 RES     \\n      72 TF          21.3974    22.0794    -2.3816 TF            1 RES     \\n      73 TF           0.8469   -10.4587    -8.4220 TF            1 RES     \\n      74 TF          37.0134    13.9305   -17.2211 TF            1 RES     \\n      75 TF         -33.4827    15.2640    24.6414 TF            1 RES     \\n      76 TF           6.9732    23.9632    30.5367 TF            1 RES     \\n      77 TF          44.1756     2.2558   -22.9800 TF            1 RES     \\n      78 TF          21.0175    31.4598     4.3175 TF            1 RES     \\n      79 TF         -14.6513    37.3581    10.1827 TF            1 RES     \\n      80 TF           9.7964    -7.3221   -26.2300 TF            1 RES     \\n      81 TF         -45.4208   -29.8409     8.6343 TF            1 RES     \\n      82 TF           8.2544    12.4452   -36.9250 TF            1 RES     \\n      83 TF         -22.6006    40.5805   -35.1364 TF            1 RES     \\n      84 TF          11.2097    42.8717    -0.8909 TF            1 RES     \\n      85 TF         -16.2151   -38.7170   -11.2036 TF            1 RES     \\n      86 TF         -40.4009     6.0165     8.9302 TF            1 RES     \\n      87 TF          17.4383   -49.3484   -27.9740 TF            1 RES     \\n      88 TF          28.3313   -24.1463   -36.7380 TF            1 RES     \\n      89 TF          11.1225   -25.1701    49.0000 TF            1 RES     \\n      90 TF          37.8491   -12.9407    25.8104 TF            1 RES     \\n      91 TF          -0.0814    39.7491    -8.1766 TF            1 RES     \\n      92 TF          -6.3544    41.7633    15.1210 TF            1 RES     \\n      93 TF         -22.1421    16.5598    37.0883 TF            1 RES     \\n      94 TF          -6.8568    36.3751   -20.1347 TF            1 RES     \\n      95 TF          30.8454    46.3627   -38.0738 TF            1 RES     \\n      96 TF         -37.2293   -46.5570    -8.2045 TF            1 RES     \\n      97 TF          43.3679    36.0217    35.2718 TF            1 RES     \\n      98 TF         -14.3243     5.1381    24.4223 TF            1 RES     \\n      99 TF          14.7312   -27.7380    37.0451 TF            1 RES     \\n     100 TF          21.2449    33.0999    38.7062 TF            1 RES     \\n     101 TF         -34.2695    46.3209    -3.3364 TF            1 RES     \\n     102 TF         -43.1346    -4.8979     6.9644 TF            1 RES     \\n     103 TF         -34.5796    17.7336    43.1680 TF            1 RES     \\n     104 TF          18.1495    26.5167   -23.1708 TF            1 RES     \\n     105 TF         -47.7770    39.1861   -12.1395 TF            1 RES     \\n     106 TF          -2.9006   -34.2458    -6.9097 TF            1 RES     \\n     107 TF          -8.6274    48.3898   -16.0418 TF            1 RES     \\n     108 TF         -47.0482    45.3093    -4.3739 TF            1 RES     \\n     109 TF         -29.3094    -6.5966   -39.9632 TF            1 RES     \\n     110 TF         -35.8369     0.6120    -5.4291 TF            1 RES     \\n     111 TF          -6.5730   -20.0738    38.1756 TF            1 RES     \\n     112 TF          47.9095   -11.1162    31.5542 TF            1 RES     \\n     113 TF         -31.4862    -1.8931    29.5656 TF            1 RES     \\n     114 TF         -42.2140   -11.8029    41.8703 TF            1 RES     \\n     115 TF          12.0203   -44.5538   -18.0117 TF            1 RES     \\n     116 TF         -13.4590   -42.5467     4.7998 TF            1 RES     \\n     117 TF         -46.1124   -19.5000    13.6554 TF            1 RES     \\n     118 TF           4.0474    38.7588     2.6939 TF            1 RES     \\n     119 TF           4.9333   -48.0378     5.6422 TF            1 RES     \\n     120 TF         -10.7764   -14.7089   -20.4824 TF            1 RES     \\n     121 TF         -25.3680   -38.8069   -22.9329 TF            1 RES     \\n     122 TF          32.4087   -14.7727     7.1707 TF            1 RES     \\n     123 TF          46.6861   -21.7904    -4.3031 TF            1 RES     \\n     124 TF         -14.1478    -1.4986     1.3854 TF            1 RES     \\n     125 TF          -7.0859   -17.3104    -6.8790 TF            1 RES     \\n     126 TF          -8.4544     0.2955    10.7321 TF            1 RES     \\n     127 TF          -5.6193   -16.9725    18.9730 TF            1 RES     \\n     128 TF         -45.2706    14.0328   -10.6488 TF            1 RES     \\n     129 TF         -43.6362    36.0220   -38.8883 TF            1 RES     \\n     130 TF          30.9946     8.5563   -24.5370 TF            1 RES     \\n     131 TF          12.2950    26.8070    -3.6379 TF            1 RES     \\n     132 TF         -19.9020   -24.3587    -1.2416 TF            1 RES     \\n     133 TF          32.5425     7.1790    30.0619 TF            1 RES     \\n     134 TF           4.5174   -42.1034   -11.7808 TF            1 RES     \\n     135 TF         -12.3585   -16.4884     6.4934 TF            1 RES     \\n     136 TF           8.1147    -0.3177     1.4960 TF            1 RES     \\n     137 TF         -48.6005    47.1167    11.6029 TF            1 RES     \\n     138 TF           4.1062    45.9878    21.9826 TF            1 RES     \\n     139 TF         -16.6962    20.2773   -33.6965 TF            1 RES     \\n     140 TF          32.0400   -32.6922    19.0208 TF            1 RES     \\n     141 TF           3.2290   -20.0028    36.7734 TF            1 RES     \\n     142 TF         -28.7873   -34.9711    10.5672 TF            1 RES     \\n     143 TF         -30.3340    13.1488   -42.4720 TF            1 RES     \\n     144 TF          -3.2067   -40.0332    23.9578 TF            1 RES     \\n     145 TF          47.4449     2.9803    18.9929 TF            1 RES     \\n     146 TF         -16.7792     6.3176   -42.4428 TF            1 RES     \\n     147 TF          32.4108    -7.0025    14.1234 TF            1 RES     \\n     148 TF          14.1301    41.0512   -15.8890 TF            1 RES     \\n     149 TF          20.3260     9.9243    28.9729 TF            1 RES     \\n     150 TF         -27.3258    -9.7938   -30.4503 TF            1 RES     \\n     151 TF          -1.8704    -8.8952    35.2716 TF            1 RES     \\n     152 TF         -42.2333    -2.3012    46.2737 TF            1 RES     \\n     153 TF         -43.2760    41.0832   -47.4036 TF            1 RES     \\n     154 TF         -48.2998   -39.2300   -38.6241 TF            1 RES     \\n     155 TF         -13.4772   -28.7438     5.0580 TF            1 RES     \\n     156 TF          31.8774    37.8139   -43.5769 TF            1 RES     \\n     157 TF          -0.9851    32.5578    22.3644 TF            1 RES     \\n     158 TF          46.7810     5.9833   -32.1708 TF            1 RES     \\n     159 TF          25.9883    23.4839     7.6340 TF            1 RES     \\n     160 TF          -4.3670   -38.0045    48.8706 TF            1 RES     \\n     161 TF         -29.9594    29.1653   -45.7002 TF            1 RES     \\n     162 TF         -14.8608    32.2052   -48.4632 TF            1 RES     \\n     163 TF         -39.0002   -39.0713    43.9000 TF            1 RES     \\n     164 TF         -18.8054     6.9660    36.8033 TF            1 RES     \\n     165 TF         -41.0917   -21.6364    35.1232 TF            1 RES     \\n@<TRIPOS>BOND\\n@<TRIPOS>SUBSTRUCTURE\\n       1 RES             1 RESIDUE    0 **** ROOT      0\\n\",\"mol2\");\n",
       "\tviewer_16055496124953372.setStyle({\"stick\": {\"radius\": 0.2, \"color\": \"grey\"}, \"sphere\": {\"scale\": 0.3, \"colorscheme\": {}}});\n",
       "\tviewer_16055496124953372.zoomTo();\n",
       "viewer_16055496124953372.render();\n",
       "});\n",
       "</script>"
      ]
     },
     "metadata": {},
     "output_type": "display_data"
    },
    {
     "data": {
      "text/plain": [
       "<py3Dmol.view at 0x7face8c59d00>"
      ]
     },
     "execution_count": 74,
     "metadata": {},
     "output_type": "execute_result"
    }
   ],
   "source": [
    "nucleus.chromosome_tf.visualize()"
   ]
  },
  {
   "cell_type": "code",
   "execution_count": 47,
   "metadata": {},
   "outputs": [
    {
     "name": "stdout",
     "output_type": "stream",
     "text": [
      "notice(2): Group \"all\" created containing 3713 particles\n",
      "done\n"
     ]
    }
   ],
   "source": [
    "nucleus.sim_param(sigmaX=1, sigmaTF=1, epsTF = 1, r_c = 3.5)"
   ]
  },
  {
   "cell_type": "code",
   "execution_count": 48,
   "metadata": {},
   "outputs": [
    {
     "name": "stdout",
     "output_type": "stream",
     "text": [
      "notice(2): Group \"type TF\" created containing 1000 particles\n",
      "notice(2): integrate.langevin/bd is using specified gamma values\n",
      "notice(2): -- Neighborlist exclusion statistics -- :\n",
      "notice(2): Particles with 0 exclusions             : 3713\n",
      "notice(2): Neighbors included by diameter          : no\n",
      "notice(2): Neighbors excluded when in the same body: no\n",
      "** starting run **\n",
      "Time 00:00:12 | Step 0 / 100000 | TPS 0 | ETA -2562047:-47:-16\n",
      "Time 00:00:22 | Step 25296 / 100000 | TPS 2528.68 | ETA 00:00:29\n",
      "Time 00:00:32 | Step 51691 / 100000 | TPS 2639.47 | ETA 00:00:18\n",
      "Time 00:00:42 | Step 78231 / 100000 | TPS 2653.97 | ETA 00:00:08\n",
      "Time 00:00:50 | Step 100000 / 100000 | TPS 2582.34 | ETA 00:00:00\n",
      "Average TPS: 2060.23\n",
      "---------\n",
      "-- Neighborlist stats:\n",
      "1514 normal updates / 1000 forced updates / 0 dangerous updates\n",
      "n_neigh_min: 0 / n_neigh_max: 0 / n_neigh_avg: 0\n",
      "shortest rebuild period: 39\n",
      "-- Cell list stats:\n",
      "Dimension: 256, 256, 256\n",
      "n_min    : 0 / n_max: 2 / n_avg: 0.000221312\n",
      "** run complete **\n"
     ]
    }
   ],
   "source": [
    "nucleus.simulate(gam=1, kT=1, dt = 0.001, tsim=10e4, outfile='sim_out', freqout=1000, seed =12383)"
   ]
  },
  {
   "cell_type": "code",
   "execution_count": 19,
   "metadata": {},
   "outputs": [],
   "source": [
    "xmd = md.load('data/chrom_traj.gro')"
   ]
  },
  {
   "cell_type": "code",
   "execution_count": 29,
   "metadata": {},
   "outputs": [],
   "source": [
    "xx = xmd[1]"
   ]
  },
  {
   "cell_type": "code",
   "execution_count": 33,
   "metadata": {},
   "outputs": [
    {
     "data": {
      "text/plain": [
       "array([[[33.233, 24.199, 21.783],\n",
       "        [32.889, 23.562, 22.414],\n",
       "        [33.396, 22.803, 22.031],\n",
       "        ...,\n",
       "        [15.546, 17.101, 22.981],\n",
       "        [16.271, 16.746, 23.515],\n",
       "        [22.306, 23.621, 22.995]]], dtype=float32)"
      ]
     },
     "execution_count": 33,
     "metadata": {},
     "output_type": "execute_result"
    }
   ],
   "source": [
    "xx.xyz"
   ]
  }
 ],
 "metadata": {
  "kernelspec": {
   "display_name": "Python 3",
   "language": "python",
   "name": "python3"
  },
  "language_info": {
   "codemirror_mode": {
    "name": "ipython",
    "version": 3
   },
   "file_extension": ".py",
   "mimetype": "text/x-python",
   "name": "python",
   "nbconvert_exporter": "python",
   "pygments_lexer": "ipython3",
   "version": "3.8.6"
  },
  "toc": {
   "base_numbering": 1,
   "nav_menu": {},
   "number_sections": true,
   "sideBar": true,
   "skip_h1_title": false,
   "title_cell": "Table of Contents",
   "title_sidebar": "Contents",
   "toc_cell": false,
   "toc_position": {},
   "toc_section_display": true,
   "toc_window_display": false
  }
 },
 "nbformat": 4,
 "nbformat_minor": 4
}
